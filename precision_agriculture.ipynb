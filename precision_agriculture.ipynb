{
 "cells": [
  {
   "cell_type": "code",
   "execution_count": null,
   "id": "54175cbc",
   "metadata": {},
   "outputs": [
    {
     "name": "stdout",
     "output_type": "stream",
     "text": [
      "  Sensor_ID        Date Soil_Moisture(%) Soil_pH Temperature(C) Humidity(%)  \\\n",
      "0  SEN-1000  2025-01-01            36.22    6.98           21.3        50.4   \n",
      "1  SEN-1001  2025-01-02            76.55    5.03           23.5        34.3   \n",
      "2  SEN-1002  2025-01-03            61.24    6.52           21.9        54.6   \n",
      "3  SEN-1003  2025-01-04            51.91    6.62           24.0        48.7   \n",
      "4  SEN-1004  2025-01-05            20.92    5.98           19.2        70.6   \n",
      "\n",
      "  Crop_Type Fertilizer_Recommended(kg/ha) Irrigation_Recommended(mm)  \\\n",
      "0  Tomatoes                          67.6                       26.6   \n",
      "1     Wheat                         130.4                        8.3   \n",
      "2  Tomatoes                          36.0                       29.4   \n",
      "3     Maize                          85.8                       19.6   \n",
      "4     Wheat                          75.6                       29.9   \n",
      "\n",
      "  Drone_Image_ID  \n",
      "0       IMG-2000  \n",
      "1       IMG-2001  \n",
      "2       IMG-2002  \n",
      "3       IMG-2003  \n",
      "4       IMG-2004  \n",
      "<class 'pandas.core.frame.DataFrame'>\n",
      "RangeIndex: 913 entries, 0 to 912\n",
      "Data columns (total 10 columns):\n",
      " #   Column                         Non-Null Count  Dtype \n",
      "---  ------                         --------------  ----- \n",
      " 0   Sensor_ID                      913 non-null    object\n",
      " 1   Date                           909 non-null    object\n",
      " 2   Soil_Moisture(%)               913 non-null    object\n",
      " 3   Soil_pH                        913 non-null    object\n",
      " 4   Temperature(C)                 913 non-null    object\n",
      " 5   Humidity(%)                    913 non-null    object\n",
      " 6   Crop_Type                      909 non-null    object\n",
      " 7   Fertilizer_Recommended(kg/ha)  913 non-null    object\n",
      " 8   Irrigation_Recommended(mm)     913 non-null    object\n",
      " 9   Drone_Image_ID                 913 non-null    object\n",
      "dtypes: object(10)\n",
      "memory usage: 71.5+ KB\n",
      "None\n"
     ]
    }
   ],
   "source": [
    "import pandas as pd\n",
    "import numpy as np\n",
    "import matplotlib.pyplot as plt\n",
    "import seaborn as sns\n",
    "from datetime import datetime\n",
    "\n",
    "df = pd.read_csv('climate_action_data.csv')\n",
    "\n",
    "# Inspecting\n",
    "print(df.head())\n",
    "print('\\n') #for space between the print statements\n",
    "print(df.info()) \n",
    "print('\\n')\n",
    "\n",
    "\n"
   ]
  },
  {
   "cell_type": "code",
   "execution_count": 5,
   "id": "d0b0ed82",
   "metadata": {},
   "outputs": [
    {
     "name": "stdout",
     "output_type": "stream",
     "text": [
      "       Sensor_ID        Date Soil_Moisture(%) Soil_pH Temperature(C)  \\\n",
      "count        913         909              913     913            913   \n",
      "unique       800         798              750     313            170   \n",
      "top     SEN-1779  2026-01-02            error    7.54           19.1   \n",
      "freq           2           2                5      11             13   \n",
      "\n",
      "       Humidity(%) Crop_Type Fertilizer_Recommended(kg/ha)  \\\n",
      "count          913       909                           913   \n",
      "unique         448         5                           595   \n",
      "top           56.0     Wheat                          66.9   \n",
      "freq             8       203                             8   \n",
      "\n",
      "       Irrigation_Recommended(mm) Drone_Image_ID  \n",
      "count                         913            913  \n",
      "unique                        243            800  \n",
      "top                           8.0       IMG-2779  \n",
      "freq                           11              2  \n"
     ]
    }
   ],
   "source": [
    "print(df.describe())"
   ]
  },
  {
   "cell_type": "code",
   "execution_count": 9,
   "id": "b7436424",
   "metadata": {},
   "outputs": [
    {
     "data": {
      "text/plain": [
       "(913, 10)"
      ]
     },
     "execution_count": 9,
     "metadata": {},
     "output_type": "execute_result"
    }
   ],
   "source": [
    "df.shape"
   ]
  },
  {
   "cell_type": "code",
   "execution_count": 2,
   "id": "1d3c18f0",
   "metadata": {},
   "outputs": [
    {
     "name": "stdout",
     "output_type": "stream",
     "text": [
      "Sensor_ID                        object\n",
      "Date                             object\n",
      "Soil_Moisture(%)                 object\n",
      "Soil_pH                          object\n",
      "Temperature(C)                   object\n",
      "Humidity(%)                      object\n",
      "Crop_Type                        object\n",
      "Fertilizer_Recommended(kg/ha)    object\n",
      "Irrigation_Recommended(mm)       object\n",
      "Drone_Image_ID                   object\n",
      "dtype: object\n"
     ]
    }
   ],
   "source": [
    "print(df.dtypes)"
   ]
  },
  {
   "cell_type": "code",
   "execution_count": 10,
   "id": "b372664b",
   "metadata": {},
   "outputs": [
    {
     "name": "stdout",
     "output_type": "stream",
     "text": [
      "Missing values in each colomn\n"
     ]
    },
    {
     "data": {
      "text/plain": [
       "Sensor_ID                        0\n",
       "Date                             4\n",
       "Soil_Moisture(%)                 0\n",
       "Soil_pH                          0\n",
       "Temperature(C)                   0\n",
       "Humidity(%)                      0\n",
       "Crop_Type                        4\n",
       "Fertilizer_Recommended(kg/ha)    0\n",
       "Irrigation_Recommended(mm)       0\n",
       "Drone_Image_ID                   0\n",
       "dtype: int64"
      ]
     },
     "execution_count": 10,
     "metadata": {},
     "output_type": "execute_result"
    }
   ],
   "source": [
    "#  missing values\n",
    "print(\"Missing values in each colomn\")\n",
    "df.isnull().sum()"
   ]
  },
  {
   "cell_type": "code",
   "execution_count": 11,
   "id": "93720df5",
   "metadata": {},
   "outputs": [
    {
     "name": "stdout",
     "output_type": "stream",
     "text": [
      "\n",
      "Missing values after handling:\n",
      "Sensor_ID                        0\n",
      "Date                             4\n",
      "Soil_Moisture(%)                 0\n",
      "Soil_pH                          0\n",
      "Temperature(C)                   0\n",
      "Humidity(%)                      0\n",
      "Crop_Type                        0\n",
      "Fertilizer_Recommended(kg/ha)    0\n",
      "Irrigation_Recommended(mm)       0\n",
      "Drone_Image_ID                   0\n",
      "dtype: int64\n"
     ]
    }
   ],
   "source": [
    "# Handle missing values\n",
    "\n",
    "# numerical columns - filled with median\n",
    "numeric_cols = ['Soil_Moisture(%)', 'Soil_pH', 'Temperature(C)', 'Humidity(%)', \n",
    "               'Fertilizer_Recommended(kg/ha)', 'Irrigation_Recommended(mm)']\n",
    "\n",
    "for col in numeric_cols:\n",
    "    if col in df.columns:\n",
    "        df[col] = pd.to_numeric(df[col], errors='coerce')  # Convert to numeric, handle 'error' values\n",
    "        df[col] = df[col].fillna(df[col].median())\n",
    "\n",
    "# categorical columns - filled with mode\n",
    "categorical_cols = ['Crop_Type']\n",
    "for col in categorical_cols:\n",
    "    if col in df.columns:\n",
    "        df[col] = df[col].fillna(df[col].mode()[0])\n",
    "\n",
    "# Check for remaining missing values\n",
    "print(\"\\nMissing values after handling:\")\n",
    "print(df.isnull().sum())\n"
   ]
  },
  {
   "cell_type": "code",
   "execution_count": 23,
   "id": "0f35a349",
   "metadata": {},
   "outputs": [
    {
     "name": "stdout",
     "output_type": "stream",
     "text": [
      "<class 'pandas.core.frame.DataFrame'>\n",
      "Index: 799 entries, 0 to 863\n",
      "Data columns (total 10 columns):\n",
      " #   Column                         Non-Null Count  Dtype         \n",
      "---  ------                         --------------  -----         \n",
      " 0   Sensor_ID                      799 non-null    object        \n",
      " 1   Date                           798 non-null    datetime64[ns]\n",
      " 2   Soil_Moisture(%)               799 non-null    float64       \n",
      " 3   Soil_pH                        799 non-null    float64       \n",
      " 4   Temperature(C)                 799 non-null    float64       \n",
      " 5   Humidity(%)                    799 non-null    float64       \n",
      " 6   Crop_Type                      799 non-null    object        \n",
      " 7   Fertilizer_Recommended(kg/ha)  799 non-null    float64       \n",
      " 8   Irrigation_Recommended(mm)     799 non-null    float64       \n",
      " 9   Drone_Image_ID                 799 non-null    object        \n",
      "dtypes: datetime64[ns](1), float64(6), object(3)\n",
      "memory usage: 68.7+ KB\n",
      "None\n",
      "\n",
      "\n",
      "                                Date  Soil_Moisture(%)     Soil_pH  \\\n",
      "count                            798        799.000000  799.000000   \n",
      "mean   2026-02-04 07:45:33.834586624         44.790970    6.252997   \n",
      "min              2025-01-01 00:00:00         10.350000    4.520000   \n",
      "25%              2025-07-19 06:00:00         26.955000    5.330000   \n",
      "50%              2026-02-03 12:00:00         45.220000    6.295000   \n",
      "75%              2026-08-23 18:00:00         62.615000    7.080000   \n",
      "max              2027-03-11 00:00:00         79.980000    8.000000   \n",
      "std                              NaN         20.460591    1.021265   \n",
      "\n",
      "       Temperature(C)  Humidity(%)  Fertilizer_Recommended(kg/ha)  \\\n",
      "count      799.000000   799.000000                     799.000000   \n",
      "mean        26.468836    60.107009                      87.401877   \n",
      "min         18.000000    30.000000                      30.000000   \n",
      "25%         22.300000    46.100000                      57.850000   \n",
      "50%         26.600000    59.600000                      85.900000   \n",
      "75%         30.600000    75.300000                     117.650000   \n",
      "max         35.000000    89.900000                     149.700000   \n",
      "std          4.867592    17.404889                      34.805589   \n",
      "\n",
      "       Irrigation_Recommended(mm)  \n",
      "count                  799.000000  \n",
      "mean                    17.390989  \n",
      "min                      5.000000  \n",
      "25%                     11.300000  \n",
      "50%                     17.400000  \n",
      "75%                     23.700000  \n",
      "max                     29.900000  \n",
      "std                      7.138402  \n"
     ]
    }
   ],
   "source": [
    "# Data in Wrong Format\n",
    "# Convert 'Date' column to datetime format\n",
    "df['Date'] = pd.to_datetime(df['Date'], errors='coerce')\n",
    "# Handle empty Crop Type using MODE \n",
    "crop_mode = df['Crop_Type'].mode()[0]  # Get the most frequent crop\n",
    "df['Crop_Type'] = df['Crop_Type'].replace('', pd.NA)  # Replace empty strings with NA\n",
    "df['Crop_Type'] = df['Crop_Type'].fillna(crop_mode)   # Fill missing crops with mode\n",
    "# Inspection\n",
    "print(df.info()) \n",
    "print('\\n')\n",
    "print(df.describe())"
   ]
  },
  {
   "cell_type": "code",
   "execution_count": 24,
   "id": "dd5bfc35",
   "metadata": {},
   "outputs": [
    {
     "name": "stdout",
     "output_type": "stream",
     "text": [
      "Data types after conversion:\n",
      "Sensor_ID                                object\n",
      "Date                             datetime64[ns]\n",
      "Soil_Moisture(%)                        float64\n",
      "Soil_pH                                 float64\n",
      "Temperature(C)                          float64\n",
      "Humidity(%)                             float64\n",
      "Crop_Type                                object\n",
      "Fertilizer_Recommended(kg/ha)           float64\n",
      "Irrigation_Recommended(mm)              float64\n",
      "Drone_Image_ID                           object\n",
      "dtype: object\n"
     ]
    }
   ],
   "source": [
    "# Wrong Data Types\n",
    "sensor_cols = ['Soil_Moisture(%)', 'Soil_pH', 'Temperature(C)', 'Humidity(%)', \n",
    "              'Fertilizer_Recommended(kg/ha)', 'Irrigation_Recommended(mm)']\n",
    "\n",
    "for col in sensor_cols:\n",
    "    if col in df.columns:\n",
    "       # Remove extreme outliers (beyond 3 standard deviations)\n",
    "       mean = df[col].mean()\n",
    "       std_dev = df[col].std()\n",
    "       df[col] = df[col].apply(lambda x: x if (mean - 3 * std_dev < x < mean + 3 * std_dev) else np.nan)\n",
    "       # Fill NaN values in price columns with the median\n",
    "       df[col] = df[col].fillna(df[col].median())\n",
    "# Check data types after conversion\n",
    "print(\"Data types after conversion:\")   \n",
    "print(df.dtypes)"
   ]
  },
  {
   "cell_type": "code",
   "execution_count": 25,
   "id": "4ab31a54",
   "metadata": {},
   "outputs": [
    {
     "name": "stdout",
     "output_type": "stream",
     "text": [
      "Number of duplicate rows: 0\n"
     ]
    }
   ],
   "source": [
    "# Check for duplicates\n",
    "print(\"Number of duplicate rows:\", df.duplicated().sum())"
   ]
  },
  {
   "cell_type": "code",
   "execution_count": 29,
   "id": "6a1fe7bb",
   "metadata": {},
   "outputs": [
    {
     "name": "stdout",
     "output_type": "stream",
     "text": [
      "Number of rows after removing duplicates: 799\n",
      "Number of duplicate dates: 0\n"
     ]
    },
    {
     "data": {
      "text/plain": [
       "(799, 10)"
      ]
     },
     "execution_count": 29,
     "metadata": {},
     "output_type": "execute_result"
    }
   ],
   "source": [
    "# Remove duplicates\n",
    "df = df.drop_duplicates()\n",
    "print(\"Number of rows after removing duplicates:\", df.shape[0])\n",
    "\n",
    "# Check for duplicate dates\n",
    "print(\"Number of duplicate dates:\", df['Date'].duplicated().sum())\n",
    "\n",
    "# Remove duplicate dates (keeping first occurrence)\n",
    "df = df.drop_duplicates(subset=['Date'], keep='first')\n",
    "# Shape\n",
    "df.shape"
   ]
  },
  {
   "cell_type": "code",
   "execution_count": 33,
   "id": "36360fdb",
   "metadata": {},
   "outputs": [
    {
     "name": "stdout",
     "output_type": "stream",
     "text": [
      "<class 'pandas.core.frame.DataFrame'>\n",
      "Index: 799 entries, 0 to 863\n",
      "Data columns (total 10 columns):\n",
      " #   Column                         Non-Null Count  Dtype         \n",
      "---  ------                         --------------  -----         \n",
      " 0   Sensor_ID                      799 non-null    object        \n",
      " 1   Date                           798 non-null    datetime64[ns]\n",
      " 2   Soil_Moisture(%)               799 non-null    float64       \n",
      " 3   Soil_pH                        799 non-null    float64       \n",
      " 4   Temperature(C)                 799 non-null    float64       \n",
      " 5   Humidity(%)                    799 non-null    float64       \n",
      " 6   Crop_Type                      799 non-null    object        \n",
      " 7   Fertilizer_Recommended(kg/ha)  799 non-null    float64       \n",
      " 8   Irrigation_Recommended(mm)     799 non-null    float64       \n",
      " 9   Drone_Image_ID                 799 non-null    object        \n",
      "dtypes: datetime64[ns](1), float64(6), object(3)\n",
      "memory usage: 68.7+ KB\n",
      "Missing values after all cleaning:\n",
      "Sensor_ID                        0\n",
      "Date                             1\n",
      "Soil_Moisture(%)                 0\n",
      "Soil_pH                          0\n",
      "Temperature(C)                   0\n",
      "Humidity(%)                      0\n",
      "Crop_Type                        0\n",
      "Fertilizer_Recommended(kg/ha)    0\n",
      "Irrigation_Recommended(mm)       0\n",
      "Drone_Image_ID                   0\n",
      "dtype: int64\n"
     ]
    }
   ],
   "source": [
    "# Final clean dataset\n",
    "df.info()\n",
    "\n",
    "# Check empty values again\n",
    "print(\"Missing values after all cleaning:\")\n",
    "print(df.isnull().sum())"
   ]
  },
  {
   "cell_type": "code",
   "execution_count": null,
   "id": "6fdd9355",
   "metadata": {},
   "outputs": [],
   "source": [
    "import matplotlib.pyplot as plt\n",
    "import seaborn as sns\n",
    "from datetime import datetime"
   ]
  },
  {
   "cell_type": "code",
   "execution_count": null,
   "id": "6e8ad8c1",
   "metadata": {},
   "outputs": [
    {
     "ename": "NameError",
     "evalue": "name 'numeric_cols' is not defined",
     "output_type": "error",
     "traceback": [
      "\u001b[31m---------------------------------------------------------------------------\u001b[39m",
      "\u001b[31mNameError\u001b[39m                                 Traceback (most recent call last)",
      "\u001b[36mCell\u001b[39m\u001b[36m \u001b[39m\u001b[32mIn[8]\u001b[39m\u001b[32m, line 7\u001b[39m\n\u001b[32m      4\u001b[39m df[\u001b[33m'\u001b[39m\u001b[33mDate\u001b[39m\u001b[33m'\u001b[39m] = pd.to_datetime(df[\u001b[33m'\u001b[39m\u001b[33mDate\u001b[39m\u001b[33m'\u001b[39m])\n\u001b[32m      6\u001b[39m \u001b[38;5;66;03m# Converting numeric columns to real number, not string\u001b[39;00m\n\u001b[32m----> \u001b[39m\u001b[32m7\u001b[39m df[numeric_cols] = df[\u001b[43mnumeric_cols\u001b[49m].apply(pd.to_numeric, errors=\u001b[33m'\u001b[39m\u001b[33mcoerce\u001b[39m\u001b[33m'\u001b[39m)\n",
      "\u001b[31mNameError\u001b[39m: name 'numeric_cols' is not defined"
     ]
    }
   ],
   "source": [
    "# Converting Date to real date, not string\n",
    "df['Date'] = pd.to_datetime(df['Date'])\n",
    "\n",
    "# Converting numeric columns to real number, not string\n",
    "df[numeric_cols] = df[numeric_cols].apply(pd.to_numeric, errors='coerce')"
   ]
  },
  {
   "cell_type": "code",
   "execution_count": 18,
   "id": "25ff3cc0",
   "metadata": {
    "scrolled": false
   },
   "outputs": [
    {
     "ename": "ValueError",
     "evalue": "hist method requires numerical or datetime columns, nothing to plot.",
     "output_type": "error",
     "traceback": [
      "\u001b[31m---------------------------------------------------------------------------\u001b[39m",
      "\u001b[31mValueError\u001b[39m                                Traceback (most recent call last)",
      "\u001b[36mCell\u001b[39m\u001b[36m \u001b[39m\u001b[32mIn[9]\u001b[39m\u001b[32m, line 4\u001b[39m\n\u001b[32m      1\u001b[39m \u001b[38;5;66;03m# Plotting histograms\u001b[39;00m\n\u001b[32m      2\u001b[39m numeric_cols = [\u001b[33m'\u001b[39m\u001b[33mSoil_Moisture(\u001b[39m\u001b[33m%\u001b[39m\u001b[33m)\u001b[39m\u001b[33m'\u001b[39m, \u001b[33m'\u001b[39m\u001b[33mSoil_pH\u001b[39m\u001b[33m'\u001b[39m, \u001b[33m'\u001b[39m\u001b[33mTemperature(C)\u001b[39m\u001b[33m'\u001b[39m, \u001b[33m'\u001b[39m\u001b[33mHumidity(\u001b[39m\u001b[33m%\u001b[39m\u001b[33m)\u001b[39m\u001b[33m'\u001b[39m,\n\u001b[32m      3\u001b[39m                 \u001b[33m'\u001b[39m\u001b[33mFertilizer_Recommended(kg/ha)\u001b[39m\u001b[33m'\u001b[39m, \u001b[33m'\u001b[39m\u001b[33mIrrigation_Recommended(mm)\u001b[39m\u001b[33m'\u001b[39m]\n\u001b[32m----> \u001b[39m\u001b[32m4\u001b[39m \u001b[43mdf\u001b[49m\u001b[43m[\u001b[49m\u001b[43mnumeric_cols\u001b[49m\u001b[43m]\u001b[49m\u001b[43m.\u001b[49m\u001b[43mhist\u001b[49m\u001b[43m(\u001b[49m\u001b[43mfigsize\u001b[49m\u001b[43m=\u001b[49m\u001b[43m(\u001b[49m\u001b[32;43m12\u001b[39;49m\u001b[43m,\u001b[49m\u001b[43m \u001b[49m\u001b[32;43m8\u001b[39;49m\u001b[43m)\u001b[49m\u001b[43m,\u001b[49m\u001b[43m \u001b[49m\u001b[43mbins\u001b[49m\u001b[43m=\u001b[49m\u001b[32;43m20\u001b[39;49m\u001b[43m)\u001b[49m\n\u001b[32m      5\u001b[39m plt.tight_layout()\n\u001b[32m      6\u001b[39m plt.show()\n",
      "\u001b[36mFile \u001b[39m\u001b[32mc:\\Users\\Maria\\AppData\\Local\\Programs\\Python\\Python313\\Lib\\site-packages\\pandas\\plotting\\_core.py:251\u001b[39m, in \u001b[36mhist_frame\u001b[39m\u001b[34m(data, column, by, grid, xlabelsize, xrot, ylabelsize, yrot, ax, sharex, sharey, figsize, layout, bins, backend, legend, **kwargs)\u001b[39m\n\u001b[32m    164\u001b[39m \u001b[38;5;250m\u001b[39m\u001b[33;03m\"\"\"\u001b[39;00m\n\u001b[32m    165\u001b[39m \u001b[33;03mMake a histogram of the DataFrame's columns.\u001b[39;00m\n\u001b[32m    166\u001b[39m \n\u001b[32m   (...)\u001b[39m\u001b[32m    248\u001b[39m \u001b[33;03m    >>> hist = df.hist(bins=3)\u001b[39;00m\n\u001b[32m    249\u001b[39m \u001b[33;03m\"\"\"\u001b[39;00m\n\u001b[32m    250\u001b[39m plot_backend = _get_plot_backend(backend)\n\u001b[32m--> \u001b[39m\u001b[32m251\u001b[39m \u001b[38;5;28;01mreturn\u001b[39;00m \u001b[43mplot_backend\u001b[49m\u001b[43m.\u001b[49m\u001b[43mhist_frame\u001b[49m\u001b[43m(\u001b[49m\n\u001b[32m    252\u001b[39m \u001b[43m    \u001b[49m\u001b[43mdata\u001b[49m\u001b[43m,\u001b[49m\n\u001b[32m    253\u001b[39m \u001b[43m    \u001b[49m\u001b[43mcolumn\u001b[49m\u001b[43m=\u001b[49m\u001b[43mcolumn\u001b[49m\u001b[43m,\u001b[49m\n\u001b[32m    254\u001b[39m \u001b[43m    \u001b[49m\u001b[43mby\u001b[49m\u001b[43m=\u001b[49m\u001b[43mby\u001b[49m\u001b[43m,\u001b[49m\n\u001b[32m    255\u001b[39m \u001b[43m    \u001b[49m\u001b[43mgrid\u001b[49m\u001b[43m=\u001b[49m\u001b[43mgrid\u001b[49m\u001b[43m,\u001b[49m\n\u001b[32m    256\u001b[39m \u001b[43m    \u001b[49m\u001b[43mxlabelsize\u001b[49m\u001b[43m=\u001b[49m\u001b[43mxlabelsize\u001b[49m\u001b[43m,\u001b[49m\n\u001b[32m    257\u001b[39m \u001b[43m    \u001b[49m\u001b[43mxrot\u001b[49m\u001b[43m=\u001b[49m\u001b[43mxrot\u001b[49m\u001b[43m,\u001b[49m\n\u001b[32m    258\u001b[39m \u001b[43m    \u001b[49m\u001b[43mylabelsize\u001b[49m\u001b[43m=\u001b[49m\u001b[43mylabelsize\u001b[49m\u001b[43m,\u001b[49m\n\u001b[32m    259\u001b[39m \u001b[43m    \u001b[49m\u001b[43myrot\u001b[49m\u001b[43m=\u001b[49m\u001b[43myrot\u001b[49m\u001b[43m,\u001b[49m\n\u001b[32m    260\u001b[39m \u001b[43m    \u001b[49m\u001b[43max\u001b[49m\u001b[43m=\u001b[49m\u001b[43max\u001b[49m\u001b[43m,\u001b[49m\n\u001b[32m    261\u001b[39m \u001b[43m    \u001b[49m\u001b[43msharex\u001b[49m\u001b[43m=\u001b[49m\u001b[43msharex\u001b[49m\u001b[43m,\u001b[49m\n\u001b[32m    262\u001b[39m \u001b[43m    \u001b[49m\u001b[43msharey\u001b[49m\u001b[43m=\u001b[49m\u001b[43msharey\u001b[49m\u001b[43m,\u001b[49m\n\u001b[32m    263\u001b[39m \u001b[43m    \u001b[49m\u001b[43mfigsize\u001b[49m\u001b[43m=\u001b[49m\u001b[43mfigsize\u001b[49m\u001b[43m,\u001b[49m\n\u001b[32m    264\u001b[39m \u001b[43m    \u001b[49m\u001b[43mlayout\u001b[49m\u001b[43m=\u001b[49m\u001b[43mlayout\u001b[49m\u001b[43m,\u001b[49m\n\u001b[32m    265\u001b[39m \u001b[43m    \u001b[49m\u001b[43mlegend\u001b[49m\u001b[43m=\u001b[49m\u001b[43mlegend\u001b[49m\u001b[43m,\u001b[49m\n\u001b[32m    266\u001b[39m \u001b[43m    \u001b[49m\u001b[43mbins\u001b[49m\u001b[43m=\u001b[49m\u001b[43mbins\u001b[49m\u001b[43m,\u001b[49m\n\u001b[32m    267\u001b[39m \u001b[43m    \u001b[49m\u001b[43m*\u001b[49m\u001b[43m*\u001b[49m\u001b[43mkwargs\u001b[49m\u001b[43m,\u001b[49m\n\u001b[32m    268\u001b[39m \u001b[43m\u001b[49m\u001b[43m)\u001b[49m\n",
      "\u001b[36mFile \u001b[39m\u001b[32mc:\\Users\\Maria\\AppData\\Local\\Programs\\Python\\Python313\\Lib\\site-packages\\pandas\\plotting\\_matplotlib\\hist.py:549\u001b[39m, in \u001b[36mhist_frame\u001b[39m\u001b[34m(data, column, by, grid, xlabelsize, xrot, ylabelsize, yrot, ax, sharex, sharey, figsize, layout, bins, legend, **kwds)\u001b[39m\n\u001b[32m    546\u001b[39m naxes = \u001b[38;5;28mlen\u001b[39m(data.columns)\n\u001b[32m    548\u001b[39m \u001b[38;5;28;01mif\u001b[39;00m naxes == \u001b[32m0\u001b[39m:\n\u001b[32m--> \u001b[39m\u001b[32m549\u001b[39m     \u001b[38;5;28;01mraise\u001b[39;00m \u001b[38;5;167;01mValueError\u001b[39;00m(\n\u001b[32m    550\u001b[39m         \u001b[33m\"\u001b[39m\u001b[33mhist method requires numerical or datetime columns, nothing to plot.\u001b[39m\u001b[33m\"\u001b[39m\n\u001b[32m    551\u001b[39m     )\n\u001b[32m    553\u001b[39m fig, axes = create_subplots(\n\u001b[32m    554\u001b[39m     naxes=naxes,\n\u001b[32m    555\u001b[39m     ax=ax,\n\u001b[32m   (...)\u001b[39m\u001b[32m    560\u001b[39m     layout=layout,\n\u001b[32m    561\u001b[39m )\n\u001b[32m    562\u001b[39m _axes = flatten_axes(axes)\n",
      "\u001b[31mValueError\u001b[39m: hist method requires numerical or datetime columns, nothing to plot."
     ]
    }
   ],
   "source": [
    "# Plotting histograms\n",
    "numeric_cols = ['Soil_Moisture(%)', 'Soil_pH', 'Temperature(C)', 'Humidity(%)',\n",
    "                'Fertilizer_Recommended(kg/ha)', 'Irrigation_Recommended(mm)']\n",
    "df[numeric_cols].hist(figsize=(12, 8), bins=20)\n",
    "plt.tight_layout()\n",
    "plt.show()\n",
    "\n",
    "# Correlation heatmap\n",
    "corr = df[numeric_cols].corr()\n",
    "sns.heatmap(corr, annot=True, cmap='coolwarm')\n",
    "plt.show()\n"
   ]
  },
  {
   "cell_type": "code",
   "execution_count": 19,
   "id": "8e5196dd",
   "metadata": {},
   "outputs": [
    {
     "data": {
      "image/png": "[encoded data removed]",
      "text/plain": [
       "<Figure size 640x480 with 1 Axes>"
      ]
     },
     "metadata": {},
     "output_type": "display_data"
    },
    {
     "name": "stdout",
     "output_type": "stream",
     "text": [
      "Wheat\n"
     ]
    }
   ],
   "source": [
    "# Boxplot of Soil_Moisture by Crop_Type\n",
    "sns.boxplot(x='Crop_Type', y='Soil_Moisture(%)', data=df)\n",
    "plt.xticks(rotation=45)\n",
    "plt.tight_layout()\n",
    "plt.show()\n",
    "\n",
    "# Crop with highest average Soil_Moisture\n",
    "print(df.groupby('Crop_Type')['Soil_Moisture(%)'].mean().idxmax())"
   ]
  },
  {
   "cell_type": "code",
   "execution_count": 20,
   "id": "7cbac9c1",
   "metadata": {},
   "outputs": [
    {
     "data": {
      "image/png": "[encoded data removed]",
      "text/plain": [
       "<Figure size 640x480 with 1 Axes>"
      ]
     },
     "metadata": {},
     "output_type": "display_data"
    }
   ],
   "source": [
    "# Analysing irrigation recommended against temperature, to make recommendations\n",
    "sns.scatterplot(x='Temperature(C)', y='Irrigation_Recommended(mm)', data=df)\n",
    "plt.tight_layout()\n",
    "plt.show()"
   ]
  },
  {
   "cell_type": "code",
   "execution_count": 21,
   "id": "11a51a4e",
   "metadata": {},
   "outputs": [],
   "source": [
    "# Saving to new CSV\n",
    "df.to_csv('cleaned_precision_agriculture_data.csv', index=False)"
   ]
  },
  {
   "cell_type": "code",
   "execution_count": null,
   "id": "87929c99",
   "metadata": {},
   "outputs": [],
   "source": []
  }
 ],
 "metadata": {
  "kernelspec": {
   "display_name": "Python 3",
   "language": "python",
   "name": "python3"
  },
  "language_info": {
   "codemirror_mode": {
    "name": "ipython",
    "version": 3
   },
   "file_extension": ".py",
   "mimetype": "text/x-python",
   "name": "python",
   "nbconvert_exporter": "python",
   "pygments_lexer": "ipython3",
   "version": "3.13.3"
  }
 },
 "nbformat": 4,
 "nbformat_minor": 5
}
